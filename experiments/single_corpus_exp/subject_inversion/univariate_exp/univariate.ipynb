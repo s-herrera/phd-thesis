{
 "cells": [
  {
   "cell_type": "markdown",
   "id": "6bfaf1f4",
   "metadata": {},
   "source": [
    "# Univariate Measures"
   ]
  },
  {
   "cell_type": "code",
   "execution_count": 1,
   "id": "bcd9aacd",
   "metadata": {},
   "outputs": [
    {
     "name": "stderr",
     "output_type": "stream",
     "text": [
      "connected to port: 44819\n"
     ]
    }
   ],
   "source": [
    "import seaborn as sns\n",
    "import matplotlib.pyplot as plt\n",
    "import pandas as pd\n",
    "import numpy as np\n",
    "import re\n",
    "\n",
    "\n",
    "from utils.matrix_utils import build_occurrences, matrix\n",
    "from univariate.univariate import univariate_measures\n",
    "from evaluation.global_eval_measures import average_maximum_precision, global_coverage, redundancy"
   ]
  },
  {
   "cell_type": "code",
   "execution_count": 2,
   "id": "68086622",
   "metadata": {},
   "outputs": [
    {
     "name": "stdout",
     "output_type": "stream",
     "text": [
      "Loading dataset...\n",
      "Number of occurences of the conclusion: 731 / 23741\n",
      "Extracting features\n"
     ]
    }
   ],
   "source": [
    "data = build_occurrences(corpus=\"../../../../data/single_corpus_data/SUD_French-GSD-r2.15/preprocessed_data\",\n",
    "                  patterns=\"../../patterns_single_corpus/patterns_subject_inversion.txt\",\n",
    "                  grew_config=\"sud\")\n",
    "\n",
    "\n",
    "X, y, feature_names = matrix(data, max_degree=1, min_feature_occurence=5)\n",
    "results = univariate_measures(X, y, feature_names)\n",
    "df_results = pd.DataFrame.from_dict(results, orient=\"index\")"
   ]
  },
  {
   "cell_type": "markdown",
   "id": "038319b5",
   "metadata": {},
   "source": [
    "## Top 5 rules for each score"
   ]
  },
  {
   "cell_type": "code",
   "execution_count": 3,
   "id": "685f04b6",
   "metadata": {},
   "outputs": [
    {
     "data": {
      "application/vnd.microsoft.datawrangler.viewer.v0+json": {
       "columns": [
        {
         "name": "index",
         "rawType": "object",
         "type": "string"
        },
        {
         "name": "idx",
         "rawType": "int64",
         "type": "integer"
        },
        {
         "name": "occs",
         "rawType": "float64",
         "type": "float"
        },
        {
         "name": "precision",
         "rawType": "float64",
         "type": "float"
        },
        {
         "name": "coverage",
         "rawType": "float64",
         "type": "float"
        },
        {
         "name": "mutual_info",
         "rawType": "float64",
         "type": "float"
        },
        {
         "name": "chi2",
         "rawType": "float64",
         "type": "float"
        },
        {
         "name": "p-value",
         "rawType": "float64",
         "type": "float"
        },
        {
         "name": "p_y1_given_feature",
         "rawType": "float64",
         "type": "float"
        },
        {
         "name": "predicted_class",
         "rawType": "bool",
         "type": "boolean"
        }
       ],
       "ref": "712dd70a-c443-4ecc-927e-c09f31a81274",
       "rows": [
        [
         "node:X:own:rel_shallow=parataxis:insert",
         "111",
         "182.0",
         "1.0",
         "0.24897400820793433",
         "0.027697776163834432",
         "5728.891928864569",
         "0.0",
         "1.0",
         "True"
        ],
        [
         "node:X:child:PronType=Int",
         "143",
         "113.0",
         "0.7079646017699115",
         "0.1094391244870041",
         "0.009078332182809987",
         "1736.372890041702",
         "0.0",
         "0.7079646017699115",
         "True"
        ],
        [
         "node:X:child:rel_shallow=subj",
         "200",
         "100.0",
         "0.5",
         "0.06839945280437756",
         "0.004543620925000063",
         "737.7299244187532",
         "1.868043554641909e-162",
         "0.5",
         "True"
        ],
        [
         "node:X:own:rel_shallow=conj:appos",
         "113",
         "24.0",
         "0.375",
         "0.012311901504787962",
         "0.0006724610146015232",
         "95.28415257358513",
         "1.6492816141838741e-22",
         "0.375",
         "True"
        ],
        [
         "node:X:own:ExtPos=PROPN",
         "76",
         "42.0",
         "0.30952380952380953",
         "0.017783857729138167",
         "0.0008535969685242719",
         "109.34292666906568",
         "1.3650387365852253e-25",
         "0.30952380952380953",
         "True"
        ]
       ],
       "shape": {
        "columns": 9,
        "rows": 5
       }
      },
      "text/html": [
       "<div>\n",
       "<style scoped>\n",
       "    .dataframe tbody tr th:only-of-type {\n",
       "        vertical-align: middle;\n",
       "    }\n",
       "\n",
       "    .dataframe tbody tr th {\n",
       "        vertical-align: top;\n",
       "    }\n",
       "\n",
       "    .dataframe thead th {\n",
       "        text-align: right;\n",
       "    }\n",
       "</style>\n",
       "<table border=\"1\" class=\"dataframe\">\n",
       "  <thead>\n",
       "    <tr style=\"text-align: right;\">\n",
       "      <th></th>\n",
       "      <th>idx</th>\n",
       "      <th>occs</th>\n",
       "      <th>precision</th>\n",
       "      <th>coverage</th>\n",
       "      <th>mutual_info</th>\n",
       "      <th>chi2</th>\n",
       "      <th>p-value</th>\n",
       "      <th>p_y1_given_feature</th>\n",
       "      <th>predicted_class</th>\n",
       "    </tr>\n",
       "  </thead>\n",
       "  <tbody>\n",
       "    <tr>\n",
       "      <th>node:X:own:rel_shallow=parataxis:insert</th>\n",
       "      <td>111</td>\n",
       "      <td>182.0</td>\n",
       "      <td>1.000000</td>\n",
       "      <td>0.248974</td>\n",
       "      <td>0.027698</td>\n",
       "      <td>5728.891929</td>\n",
       "      <td>0.000000e+00</td>\n",
       "      <td>1.000000</td>\n",
       "      <td>True</td>\n",
       "    </tr>\n",
       "    <tr>\n",
       "      <th>node:X:child:PronType=Int</th>\n",
       "      <td>143</td>\n",
       "      <td>113.0</td>\n",
       "      <td>0.707965</td>\n",
       "      <td>0.109439</td>\n",
       "      <td>0.009078</td>\n",
       "      <td>1736.372890</td>\n",
       "      <td>0.000000e+00</td>\n",
       "      <td>0.707965</td>\n",
       "      <td>True</td>\n",
       "    </tr>\n",
       "    <tr>\n",
       "      <th>node:X:child:rel_shallow=subj</th>\n",
       "      <td>200</td>\n",
       "      <td>100.0</td>\n",
       "      <td>0.500000</td>\n",
       "      <td>0.068399</td>\n",
       "      <td>0.004544</td>\n",
       "      <td>737.729924</td>\n",
       "      <td>1.868044e-162</td>\n",
       "      <td>0.500000</td>\n",
       "      <td>True</td>\n",
       "    </tr>\n",
       "    <tr>\n",
       "      <th>node:X:own:rel_shallow=conj:appos</th>\n",
       "      <td>113</td>\n",
       "      <td>24.0</td>\n",
       "      <td>0.375000</td>\n",
       "      <td>0.012312</td>\n",
       "      <td>0.000672</td>\n",
       "      <td>95.284153</td>\n",
       "      <td>1.649282e-22</td>\n",
       "      <td>0.375000</td>\n",
       "      <td>True</td>\n",
       "    </tr>\n",
       "    <tr>\n",
       "      <th>node:X:own:ExtPos=PROPN</th>\n",
       "      <td>76</td>\n",
       "      <td>42.0</td>\n",
       "      <td>0.309524</td>\n",
       "      <td>0.017784</td>\n",
       "      <td>0.000854</td>\n",
       "      <td>109.342927</td>\n",
       "      <td>1.365039e-25</td>\n",
       "      <td>0.309524</td>\n",
       "      <td>True</td>\n",
       "    </tr>\n",
       "  </tbody>\n",
       "</table>\n",
       "</div>"
      ],
      "text/plain": [
       "                                         idx   occs  precision  coverage  \\\n",
       "node:X:own:rel_shallow=parataxis:insert  111  182.0   1.000000  0.248974   \n",
       "node:X:child:PronType=Int                143  113.0   0.707965  0.109439   \n",
       "node:X:child:rel_shallow=subj            200  100.0   0.500000  0.068399   \n",
       "node:X:own:rel_shallow=conj:appos        113   24.0   0.375000  0.012312   \n",
       "node:X:own:ExtPos=PROPN                   76   42.0   0.309524  0.017784   \n",
       "\n",
       "                                         mutual_info         chi2  \\\n",
       "node:X:own:rel_shallow=parataxis:insert     0.027698  5728.891929   \n",
       "node:X:child:PronType=Int                   0.009078  1736.372890   \n",
       "node:X:child:rel_shallow=subj               0.004544   737.729924   \n",
       "node:X:own:rel_shallow=conj:appos           0.000672    95.284153   \n",
       "node:X:own:ExtPos=PROPN                     0.000854   109.342927   \n",
       "\n",
       "                                               p-value  p_y1_given_feature  \\\n",
       "node:X:own:rel_shallow=parataxis:insert   0.000000e+00            1.000000   \n",
       "node:X:child:PronType=Int                 0.000000e+00            0.707965   \n",
       "node:X:child:rel_shallow=subj            1.868044e-162            0.500000   \n",
       "node:X:own:rel_shallow=conj:appos         1.649282e-22            0.375000   \n",
       "node:X:own:ExtPos=PROPN                   1.365039e-25            0.309524   \n",
       "\n",
       "                                         predicted_class  \n",
       "node:X:own:rel_shallow=parataxis:insert             True  \n",
       "node:X:child:PronType=Int                           True  \n",
       "node:X:child:rel_shallow=subj                       True  \n",
       "node:X:own:rel_shallow=conj:appos                   True  \n",
       "node:X:own:ExtPos=PROPN                             True  "
      ]
     },
     "execution_count": 3,
     "metadata": {},
     "output_type": "execute_result"
    }
   ],
   "source": [
    "df_results[df_results['predicted_class'] == True].sort_values(\"precision\", ascending=False).head(5)"
   ]
  },
  {
   "cell_type": "code",
   "execution_count": 4,
   "id": "d2280081",
   "metadata": {},
   "outputs": [
    {
     "data": {
      "application/vnd.microsoft.datawrangler.viewer.v0+json": {
       "columns": [
        {
         "name": "index",
         "rawType": "object",
         "type": "string"
        },
        {
         "name": "idx",
         "rawType": "int64",
         "type": "integer"
        },
        {
         "name": "occs",
         "rawType": "float64",
         "type": "float"
        },
        {
         "name": "precision",
         "rawType": "float64",
         "type": "float"
        },
        {
         "name": "coverage",
         "rawType": "float64",
         "type": "float"
        },
        {
         "name": "mutual_info",
         "rawType": "float64",
         "type": "float"
        },
        {
         "name": "chi2",
         "rawType": "float64",
         "type": "float"
        },
        {
         "name": "p-value",
         "rawType": "float64",
         "type": "float"
        },
        {
         "name": "p_y1_given_feature",
         "rawType": "float64",
         "type": "float"
        },
        {
         "name": "predicted_class",
         "rawType": "bool",
         "type": "boolean"
        }
       ],
       "ref": "57820296-3f62-4f1e-b575-10f15c2fe211",
       "rows": [
        [
         "node:X:own:rel_shallow=parataxis:insert",
         "111",
         "182.0",
         "1.0",
         "0.24897400820793433",
         "0.027697776163834432",
         "5728.891928864569",
         "0.0",
         "1.0",
         "True"
        ],
        [
         "node:X:child:PronType=Int",
         "143",
         "113.0",
         "0.7079646017699115",
         "0.1094391244870041",
         "0.009078332182809987",
         "1736.372890041702",
         "0.0",
         "0.7079646017699115",
         "True"
        ],
        [
         "node:X:child:rel_shallow=subj",
         "200",
         "100.0",
         "0.5",
         "0.06839945280437756",
         "0.004543620925000063",
         "737.7299244187532",
         "1.868043554641909e-162",
         "0.5",
         "True"
        ],
        [
         "node:X:parent:VerbForm=Fin",
         "92",
         "2309.0",
         "0.09831095712429623",
         "0.31053351573187415",
         "0.0056373990622256565",
         "352.74203549164275",
         "1.0715910779814776e-78",
         "0.09831095712429623",
         "True"
        ],
        [
         "node:X:parent:Mood=Ind",
         "33",
         "2238.0",
         "0.09785522788203753",
         "0.29958960328317374",
         "0.005368659494923433",
         "337.29580639660537",
         "2.4762966851987676e-75",
         "0.09785522788203753",
         "True"
        ]
       ],
       "shape": {
        "columns": 9,
        "rows": 5
       }
      },
      "text/html": [
       "<div>\n",
       "<style scoped>\n",
       "    .dataframe tbody tr th:only-of-type {\n",
       "        vertical-align: middle;\n",
       "    }\n",
       "\n",
       "    .dataframe tbody tr th {\n",
       "        vertical-align: top;\n",
       "    }\n",
       "\n",
       "    .dataframe thead th {\n",
       "        text-align: right;\n",
       "    }\n",
       "</style>\n",
       "<table border=\"1\" class=\"dataframe\">\n",
       "  <thead>\n",
       "    <tr style=\"text-align: right;\">\n",
       "      <th></th>\n",
       "      <th>idx</th>\n",
       "      <th>occs</th>\n",
       "      <th>precision</th>\n",
       "      <th>coverage</th>\n",
       "      <th>mutual_info</th>\n",
       "      <th>chi2</th>\n",
       "      <th>p-value</th>\n",
       "      <th>p_y1_given_feature</th>\n",
       "      <th>predicted_class</th>\n",
       "    </tr>\n",
       "  </thead>\n",
       "  <tbody>\n",
       "    <tr>\n",
       "      <th>node:X:own:rel_shallow=parataxis:insert</th>\n",
       "      <td>111</td>\n",
       "      <td>182.0</td>\n",
       "      <td>1.000000</td>\n",
       "      <td>0.248974</td>\n",
       "      <td>0.027698</td>\n",
       "      <td>5728.891929</td>\n",
       "      <td>0.000000e+00</td>\n",
       "      <td>1.000000</td>\n",
       "      <td>True</td>\n",
       "    </tr>\n",
       "    <tr>\n",
       "      <th>node:X:child:PronType=Int</th>\n",
       "      <td>143</td>\n",
       "      <td>113.0</td>\n",
       "      <td>0.707965</td>\n",
       "      <td>0.109439</td>\n",
       "      <td>0.009078</td>\n",
       "      <td>1736.372890</td>\n",
       "      <td>0.000000e+00</td>\n",
       "      <td>0.707965</td>\n",
       "      <td>True</td>\n",
       "    </tr>\n",
       "    <tr>\n",
       "      <th>node:X:child:rel_shallow=subj</th>\n",
       "      <td>200</td>\n",
       "      <td>100.0</td>\n",
       "      <td>0.500000</td>\n",
       "      <td>0.068399</td>\n",
       "      <td>0.004544</td>\n",
       "      <td>737.729924</td>\n",
       "      <td>1.868044e-162</td>\n",
       "      <td>0.500000</td>\n",
       "      <td>True</td>\n",
       "    </tr>\n",
       "    <tr>\n",
       "      <th>node:X:parent:VerbForm=Fin</th>\n",
       "      <td>92</td>\n",
       "      <td>2309.0</td>\n",
       "      <td>0.098311</td>\n",
       "      <td>0.310534</td>\n",
       "      <td>0.005637</td>\n",
       "      <td>352.742035</td>\n",
       "      <td>1.071591e-78</td>\n",
       "      <td>0.098311</td>\n",
       "      <td>True</td>\n",
       "    </tr>\n",
       "    <tr>\n",
       "      <th>node:X:parent:Mood=Ind</th>\n",
       "      <td>33</td>\n",
       "      <td>2238.0</td>\n",
       "      <td>0.097855</td>\n",
       "      <td>0.299590</td>\n",
       "      <td>0.005369</td>\n",
       "      <td>337.295806</td>\n",
       "      <td>2.476297e-75</td>\n",
       "      <td>0.097855</td>\n",
       "      <td>True</td>\n",
       "    </tr>\n",
       "  </tbody>\n",
       "</table>\n",
       "</div>"
      ],
      "text/plain": [
       "                                         idx    occs  precision  coverage  \\\n",
       "node:X:own:rel_shallow=parataxis:insert  111   182.0   1.000000  0.248974   \n",
       "node:X:child:PronType=Int                143   113.0   0.707965  0.109439   \n",
       "node:X:child:rel_shallow=subj            200   100.0   0.500000  0.068399   \n",
       "node:X:parent:VerbForm=Fin                92  2309.0   0.098311  0.310534   \n",
       "node:X:parent:Mood=Ind                    33  2238.0   0.097855  0.299590   \n",
       "\n",
       "                                         mutual_info         chi2  \\\n",
       "node:X:own:rel_shallow=parataxis:insert     0.027698  5728.891929   \n",
       "node:X:child:PronType=Int                   0.009078  1736.372890   \n",
       "node:X:child:rel_shallow=subj               0.004544   737.729924   \n",
       "node:X:parent:VerbForm=Fin                  0.005637   352.742035   \n",
       "node:X:parent:Mood=Ind                      0.005369   337.295806   \n",
       "\n",
       "                                               p-value  p_y1_given_feature  \\\n",
       "node:X:own:rel_shallow=parataxis:insert   0.000000e+00            1.000000   \n",
       "node:X:child:PronType=Int                 0.000000e+00            0.707965   \n",
       "node:X:child:rel_shallow=subj            1.868044e-162            0.500000   \n",
       "node:X:parent:VerbForm=Fin                1.071591e-78            0.098311   \n",
       "node:X:parent:Mood=Ind                    2.476297e-75            0.097855   \n",
       "\n",
       "                                         predicted_class  \n",
       "node:X:own:rel_shallow=parataxis:insert             True  \n",
       "node:X:child:PronType=Int                           True  \n",
       "node:X:child:rel_shallow=subj                       True  \n",
       "node:X:parent:VerbForm=Fin                          True  \n",
       "node:X:parent:Mood=Ind                              True  "
      ]
     },
     "execution_count": 4,
     "metadata": {},
     "output_type": "execute_result"
    }
   ],
   "source": [
    "df_results.sort_values(\"chi2\", ascending=False).head(5)"
   ]
  },
  {
   "cell_type": "code",
   "execution_count": 5,
   "id": "0171a721",
   "metadata": {},
   "outputs": [
    {
     "data": {
      "application/vnd.microsoft.datawrangler.viewer.v0+json": {
       "columns": [
        {
         "name": "index",
         "rawType": "object",
         "type": "string"
        },
        {
         "name": "idx",
         "rawType": "int64",
         "type": "integer"
        },
        {
         "name": "occs",
         "rawType": "float64",
         "type": "float"
        },
        {
         "name": "precision",
         "rawType": "float64",
         "type": "float"
        },
        {
         "name": "coverage",
         "rawType": "float64",
         "type": "float"
        },
        {
         "name": "mutual_info",
         "rawType": "float64",
         "type": "float"
        },
        {
         "name": "chi2",
         "rawType": "float64",
         "type": "float"
        },
        {
         "name": "p-value",
         "rawType": "float64",
         "type": "float"
        },
        {
         "name": "p_y1_given_feature",
         "rawType": "float64",
         "type": "float"
        },
        {
         "name": "predicted_class",
         "rawType": "bool",
         "type": "boolean"
        }
       ],
       "ref": "b40b8a86-a024-47ae-90c7-cbecd893b242",
       "rows": [
        [
         "node:X:own:rel_shallow=parataxis:insert",
         "111",
         "182.0",
         "1.0",
         "0.24897400820793433",
         "0.027697776163834432",
         "5728.891928864569",
         "0.0",
         "1.0",
         "True"
        ],
        [
         "node:X:child:PronType=Int",
         "143",
         "113.0",
         "0.7079646017699115",
         "0.1094391244870041",
         "0.009078332182809987",
         "1736.372890041702",
         "0.0",
         "0.7079646017699115",
         "True"
        ],
        [
         "node:X:parent:VerbForm=Fin",
         "92",
         "2309.0",
         "0.09831095712429623",
         "0.31053351573187415",
         "0.0056373990622256565",
         "352.74203549164275",
         "1.0715910779814776e-78",
         "0.09831095712429623",
         "True"
        ],
        [
         "node:X:own:rel_shallow=root",
         "115",
         "15480.0",
         "0.9828165374677003",
         "0.6611907866145155",
         "0.0054608202396180874",
         "96.04383740866601",
         "1.1236763437282534e-22",
         "0.017183462532299743",
         "False"
        ],
        [
         "node:X:parent:Mood=Ind",
         "33",
         "2238.0",
         "0.09785522788203753",
         "0.29958960328317374",
         "0.005368659494923433",
         "337.29580639660537",
         "2.4762966851987676e-75",
         "0.09785522788203753",
         "True"
        ]
       ],
       "shape": {
        "columns": 9,
        "rows": 5
       }
      },
      "text/html": [
       "<div>\n",
       "<style scoped>\n",
       "    .dataframe tbody tr th:only-of-type {\n",
       "        vertical-align: middle;\n",
       "    }\n",
       "\n",
       "    .dataframe tbody tr th {\n",
       "        vertical-align: top;\n",
       "    }\n",
       "\n",
       "    .dataframe thead th {\n",
       "        text-align: right;\n",
       "    }\n",
       "</style>\n",
       "<table border=\"1\" class=\"dataframe\">\n",
       "  <thead>\n",
       "    <tr style=\"text-align: right;\">\n",
       "      <th></th>\n",
       "      <th>idx</th>\n",
       "      <th>occs</th>\n",
       "      <th>precision</th>\n",
       "      <th>coverage</th>\n",
       "      <th>mutual_info</th>\n",
       "      <th>chi2</th>\n",
       "      <th>p-value</th>\n",
       "      <th>p_y1_given_feature</th>\n",
       "      <th>predicted_class</th>\n",
       "    </tr>\n",
       "  </thead>\n",
       "  <tbody>\n",
       "    <tr>\n",
       "      <th>node:X:own:rel_shallow=parataxis:insert</th>\n",
       "      <td>111</td>\n",
       "      <td>182.0</td>\n",
       "      <td>1.000000</td>\n",
       "      <td>0.248974</td>\n",
       "      <td>0.027698</td>\n",
       "      <td>5728.891929</td>\n",
       "      <td>0.000000e+00</td>\n",
       "      <td>1.000000</td>\n",
       "      <td>True</td>\n",
       "    </tr>\n",
       "    <tr>\n",
       "      <th>node:X:child:PronType=Int</th>\n",
       "      <td>143</td>\n",
       "      <td>113.0</td>\n",
       "      <td>0.707965</td>\n",
       "      <td>0.109439</td>\n",
       "      <td>0.009078</td>\n",
       "      <td>1736.372890</td>\n",
       "      <td>0.000000e+00</td>\n",
       "      <td>0.707965</td>\n",
       "      <td>True</td>\n",
       "    </tr>\n",
       "    <tr>\n",
       "      <th>node:X:parent:VerbForm=Fin</th>\n",
       "      <td>92</td>\n",
       "      <td>2309.0</td>\n",
       "      <td>0.098311</td>\n",
       "      <td>0.310534</td>\n",
       "      <td>0.005637</td>\n",
       "      <td>352.742035</td>\n",
       "      <td>1.071591e-78</td>\n",
       "      <td>0.098311</td>\n",
       "      <td>True</td>\n",
       "    </tr>\n",
       "    <tr>\n",
       "      <th>node:X:own:rel_shallow=root</th>\n",
       "      <td>115</td>\n",
       "      <td>15480.0</td>\n",
       "      <td>0.982817</td>\n",
       "      <td>0.661191</td>\n",
       "      <td>0.005461</td>\n",
       "      <td>96.043837</td>\n",
       "      <td>1.123676e-22</td>\n",
       "      <td>0.017183</td>\n",
       "      <td>False</td>\n",
       "    </tr>\n",
       "    <tr>\n",
       "      <th>node:X:parent:Mood=Ind</th>\n",
       "      <td>33</td>\n",
       "      <td>2238.0</td>\n",
       "      <td>0.097855</td>\n",
       "      <td>0.299590</td>\n",
       "      <td>0.005369</td>\n",
       "      <td>337.295806</td>\n",
       "      <td>2.476297e-75</td>\n",
       "      <td>0.097855</td>\n",
       "      <td>True</td>\n",
       "    </tr>\n",
       "  </tbody>\n",
       "</table>\n",
       "</div>"
      ],
      "text/plain": [
       "                                         idx     occs  precision  coverage  \\\n",
       "node:X:own:rel_shallow=parataxis:insert  111    182.0   1.000000  0.248974   \n",
       "node:X:child:PronType=Int                143    113.0   0.707965  0.109439   \n",
       "node:X:parent:VerbForm=Fin                92   2309.0   0.098311  0.310534   \n",
       "node:X:own:rel_shallow=root              115  15480.0   0.982817  0.661191   \n",
       "node:X:parent:Mood=Ind                    33   2238.0   0.097855  0.299590   \n",
       "\n",
       "                                         mutual_info         chi2  \\\n",
       "node:X:own:rel_shallow=parataxis:insert     0.027698  5728.891929   \n",
       "node:X:child:PronType=Int                   0.009078  1736.372890   \n",
       "node:X:parent:VerbForm=Fin                  0.005637   352.742035   \n",
       "node:X:own:rel_shallow=root                 0.005461    96.043837   \n",
       "node:X:parent:Mood=Ind                      0.005369   337.295806   \n",
       "\n",
       "                                              p-value  p_y1_given_feature  \\\n",
       "node:X:own:rel_shallow=parataxis:insert  0.000000e+00            1.000000   \n",
       "node:X:child:PronType=Int                0.000000e+00            0.707965   \n",
       "node:X:parent:VerbForm=Fin               1.071591e-78            0.098311   \n",
       "node:X:own:rel_shallow=root              1.123676e-22            0.017183   \n",
       "node:X:parent:Mood=Ind                   2.476297e-75            0.097855   \n",
       "\n",
       "                                         predicted_class  \n",
       "node:X:own:rel_shallow=parataxis:insert             True  \n",
       "node:X:child:PronType=Int                           True  \n",
       "node:X:parent:VerbForm=Fin                          True  \n",
       "node:X:own:rel_shallow=root                        False  \n",
       "node:X:parent:Mood=Ind                              True  "
      ]
     },
     "execution_count": 5,
     "metadata": {},
     "output_type": "execute_result"
    }
   ],
   "source": [
    "df_results.sort_values(\"mutual_info\", ascending=False).head(5)"
   ]
  },
  {
   "cell_type": "markdown",
   "id": "5a62c6c5",
   "metadata": {},
   "source": [
    "## Plot top-50 rules and its average"
   ]
  },
  {
   "cell_type": "code",
   "execution_count": 6,
   "id": "3dd4c4e3",
   "metadata": {},
   "outputs": [
    {
     "data": {
      "image/png": "[encoded data removed]",
      "text/plain": [
       "<Figure size 1400x500 with 2 Axes>"
      ]
     },
     "metadata": {},
     "output_type": "display_data"
    }
   ],
   "source": [
    "df = pd.DataFrame.from_dict(results, orient=\"index\")\n",
    "df = df.reset_index().rename(columns={'index': 'name'})\n",
    "\n",
    "top50_precision = df.sort_values(\"precision\", ascending=False).head(50)\n",
    "top50_mi = df.sort_values(\"mutual_info\", ascending=False).head(50)\n",
    "top50_chi2 = df.sort_values(\"chi2\", ascending=False).head(50)\n",
    "\n",
    "top50_precision_plot = top50_precision.copy()\n",
    "top50_precision_plot[\"score\"] = \"precision\"\n",
    "top50_mi_plot = top50_mi.copy()\n",
    "top50_mi_plot[\"score\"] = \"mutual_info\"\n",
    "top50_chi2_plot = top50_chi2.copy()\n",
    "top50_chi2_plot[\"score\"] = \"chi2\"\n",
    "\n",
    "# concatenate dfs for plotting\n",
    "df_scatter = pd.concat([top50_precision_plot, top50_mi_plot, top50_chi2_plot], ignore_index=True)\n",
    "\n",
    "# average per score\n",
    "avg_df = df_scatter.groupby(\"score\")[[\"precision\", \"coverage\"]].mean().reset_index()\n",
    "fig, axes = plt.subplots(1, 2, figsize=(14, 5))\n",
    "sns.stripplot(data=df_scatter, x=\"score\", y=\"precision\", ax=axes[0], jitter=True, alpha=0.7)\n",
    "\n",
    "# top 50  precision\n",
    "# the average on a stripplot\n",
    "for i, row in avg_df.iterrows():\n",
    "    x_pos = list(df_scatter[\"score\"].unique()).index(row[\"score\"])\n",
    "    axes[0].hlines(row[\"precision\"], x_pos-0.2, x_pos+0.2, colors=sns.color_palette(), linewidth=2)\n",
    "\n",
    "axes[0].set_title(\"Precision Scores for Top 50 Rules\")\n",
    "axes[0].set_ylabel(\"Precision\")\n",
    "axes[0].set_xlabel(\"Univariate Score\")\n",
    "axes[0].set_ylim(0, 1.01)\n",
    "axes[1].set_ylim(0, 1.01)\n",
    "\n",
    "# top 50 by coverage\n",
    "sns.stripplot(data=df_scatter, x=\"score\", y=\"coverage\", ax=axes[1], jitter=True, alpha=0.7)\n",
    "for i, row in avg_df.iterrows():\n",
    "    x_pos = list(df_scatter[\"score\"].unique()).index(row[\"score\"])\n",
    "    axes[1].hlines(row[\"coverage\"], x_pos-0.2, x_pos+0.2, colors=sns.color_palette(), linewidth=2)\n",
    "\n",
    "axes[1].set_title(\"Coverage Scores for Top 50 Rules\")\n",
    "axes[1].set_ylabel(\"Coverage\")\n",
    "axes[1].set_xlabel(\"Univariate Score\")\n",
    "\n",
    "for ax in axes:\n",
    "    handles, labels = ax.get_legend_handles_labels()\n",
    "    xticks = ax.get_xticks()\n",
    "    xticklabels = [l.get_text() for l in ax.get_xticklabels()]\n",
    "    ax.set_xticks(xticks[::-1])\n",
    "    ax.set_xticklabels(xticklabels[::-1])\n",
    "    ax.legend(handles[::-1], labels[::-1])\n",
    "\n",
    "plt.tight_layout()\n",
    "#plt.savefig(\"univariate_avg_scores.pdf\")\n",
    "plt.show()"
   ]
  },
  {
   "cell_type": "markdown",
   "id": "89883d9b",
   "metadata": {},
   "source": [
    "## Compute global measures for $n$ rules"
   ]
  },
  {
   "cell_type": "code",
   "execution_count": 7,
   "id": "77febbdb",
   "metadata": {},
   "outputs": [],
   "source": [
    "n = 100\n",
    "res = {}\n",
    "scores = [\"precision\", \"chi2\", \"mutual_info\"]\n",
    "for score in scores:\n",
    "    df = pd.DataFrame.from_dict(results, orient=\"index\")\n",
    "    df = df.reset_index().rename(columns={'index': 'name'})\n",
    "    df = df.sort_values(score, ascending=False)\n",
    "    results_by_n = []\n",
    "    for n in range(1, n + 1, 1):\n",
    "        selected_indices = df.idx.values[:n]\n",
    "        selected_signs = [1 if v else 0 for v in df.predicted_class.values[:n]]\n",
    "        selected_names = df.name.values[:n]\n",
    "        selected_precisions = df.precision.values[:n]\n",
    "        selected_coverages = df.coverage.values[:n]\n",
    "\n",
    "        X_selected = X[:, selected_indices]\n",
    "        rules = [(X[:, i], sign, score)\n",
    "            for i, sign, score in zip(selected_indices, selected_signs, selected_precisions)\n",
    "        ]\n",
    "        global_coverage_score, uncovered_occs = global_coverage(X_selected, y, selected_signs)\n",
    "        redudancy_score = redundancy(X_selected)\n",
    "        amp, pos_amp, neg_amp, rule_zero_amp, (pos_base_precision, neg_base_precision) = average_maximum_precision(rules, y, rule_zero=False)\n",
    "        avg_lenght = np.mean([len(re.split(r',(?=node|0|1)', name)) for name in selected_names])\n",
    "        results_by_n.append({\n",
    "            \"n_features\": n,\n",
    "            \"global_coverage\": global_coverage_score,\n",
    "            \"redundancy\": redudancy_score,\n",
    "            \"amp\": amp,\n",
    "            \"pos_amp\": pos_amp,\n",
    "            \"neg_amp\": neg_amp,\n",
    "            \"rule_zero_amp\": rule_zero_amp,\n",
    "            \"pos_base_precision\": pos_base_precision,\n",
    "            \"neg_base_precision\": neg_base_precision,\n",
    "            \"amp_gain\": amp - rule_zero_amp,\n",
    "            \"uncovered_occs\": uncovered_occs[0],\n",
    "            \"avg_precision\": np.mean(selected_precisions),\n",
    "            \"avg_coverage\": np.mean(selected_coverages),\n",
    "            \"avg_lenght\": avg_lenght\n",
    "        })\n",
    "\n",
    "    res[score] = results_by_n"
   ]
  },
  {
   "cell_type": "code",
   "execution_count": 8,
   "id": "36e58f7b",
   "metadata": {},
   "outputs": [
    {
     "data": {
      "image/png": "[encoded data removed]",
      "text/plain": [
       "<Figure size 1080x900 with 9 Axes>"
      ]
     },
     "metadata": {},
     "output_type": "display_data"
    }
   ],
   "source": [
    "# prepare your data in long format for seaborn\n",
    "results_by_n_precision = pd.DataFrame(res['precision'])\n",
    "results_by_n_chi2 = pd.DataFrame(res['chi2'])\n",
    "results_by_n_mi = pd.DataFrame(res['mutual_info'])\n",
    "results_by_n_precision['score'] = 'precision'\n",
    "results_by_n_chi2['score'] = 'chi2'\n",
    "results_by_n_mi['score'] = 'mutual_info'\n",
    "\n",
    "df_long = pd.concat([results_by_n_precision, results_by_n_chi2, results_by_n_mi], ignore_index=True)\n",
    "\n",
    "# melt for plotting in once single plot\n",
    "df_plot = df_long.melt(id_vars=['n_features', 'score'], \n",
    "                      value_vars=['amp', 'redundancy', 'global_coverage'],\n",
    "                      var_name='metric', value_name='value')\n",
    "\n",
    "g = sns.FacetGrid(df_plot, row='metric', col='score', sharex=True, sharey=False, height=3, aspect=1.2)\n",
    "for ax, score in zip(g.axes[0], scores):\n",
    "    rule_zero = res[score][0]['rule_zero_amp']\n",
    "    ax.axhline(rule_zero, color='red', linestyle='--', label='rule_zero_amp')\n",
    "\n",
    "g.map(sns.lineplot, 'n_features', 'value')\n",
    "\n",
    "redundancy_row_index = g.row_names.index('redundancy')\n",
    "for ax in g.axes[redundancy_row_index]:\n",
    "    ax.set_ylim(0, 17.5)\n",
    "\n",
    "g.set_axis_labels('Number of Rules', 'Score')\n",
    "g.set_titles(row_template='{row_name}', col_template='{col_name}')\n",
    "plt.style.use('default')\n",
    "plt.tight_layout()\n",
    "#plt.savefig(\"univariate_global_scores.pdf\")\n",
    "plt.show()\n"
   ]
  },
  {
   "cell_type": "markdown",
   "id": "3dddfeaa",
   "metadata": {},
   "source": [
    "## Find $n$ rules when it first passes the AMP baseline"
   ]
  },
  {
   "cell_type": "code",
   "execution_count": 9,
   "id": "da2ca85c",
   "metadata": {},
   "outputs": [
    {
     "data": {
      "text/plain": [
       "{'precision': {'n_features': 95,\n",
       "  'amp': 0.9434992800912725,\n",
       "  'rule_zero_amp': 0.9403148932101334},\n",
       " 'chi2': {'n_features': 50,\n",
       "  'amp': 0.9527034148566623,\n",
       "  'rule_zero_amp': 0.9403148932101334},\n",
       " 'mutual_info': {'n_features': 27,\n",
       "  'amp': 0.9523402274182455,\n",
       "  'rule_zero_amp': 0.9403148932101334}}"
      ]
     },
     "execution_count": 9,
     "metadata": {},
     "output_type": "execute_result"
    }
   ],
   "source": [
    "results_by_n_precision = pd.DataFrame(res['precision'])\n",
    "results_by_n_chi2 = pd.DataFrame(res['chi2'])\n",
    "results_by_n_mi = pd.DataFrame(res['mutual_info'])\n",
    "# Find the first n_features where max_precision exceeds rule_zero_max_precision for each score\n",
    "first_pass = {}\n",
    "for score, df in zip(scores, [results_by_n_precision, results_by_n_chi2, results_by_n_mi]):\n",
    "    threshold = df['rule_zero_amp'].iloc[0]\n",
    "    above = df[df['amp'] > threshold]\n",
    "    if not above.empty:\n",
    "        first_row = above.iloc[0]\n",
    "        first_pass[score] = {\n",
    "            'n_features': int(first_row['n_features']),\n",
    "            'amp': float(first_row['amp']),\n",
    "            'rule_zero_amp': float(threshold)\n",
    "        }\n",
    "    else:\n",
    "        first_pass[score] = None\n",
    "first_pass"
   ]
  },
  {
   "cell_type": "markdown",
   "id": "57b33ad9",
   "metadata": {},
   "source": [
    "## Univariate measures with feature interaction"
   ]
  },
  {
   "cell_type": "code",
   "execution_count": 10,
   "id": "ca70d59c",
   "metadata": {},
   "outputs": [
    {
     "name": "stdout",
     "output_type": "stream",
     "text": [
      "Loading dataset...\n",
      "Number of occurences of the conclusion: 731 / 23741\n",
      "Extracting features\n"
     ]
    }
   ],
   "source": [
    "pairwise_data = build_occurrences(corpus=\"../../../../data/single_corpus_data/SUD_French-GSD-r2.15/preprocessed_data\",\n",
    "                  patterns=\"../../patterns_single_corpus/patterns_subject_inversion.txt\",\n",
    "                  grew_config=\"sud\")\n",
    "\n",
    "\n",
    "X_pairwise, y_pairwise, feature_names_pairwise = matrix(pairwise_data, max_degree=2, min_feature_occurence=5)\n",
    "pairwise_results = univariate_measures(X_pairwise, y_pairwise, feature_names_pairwise)"
   ]
  },
  {
   "cell_type": "code",
   "execution_count": 11,
   "id": "f6f46e09",
   "metadata": {},
   "outputs": [],
   "source": [
    "pairwise_res = {}\n",
    "df_pairwise_results = pd.DataFrame.from_dict(pairwise_results, orient=\"index\")\n",
    "df_pairwise_results = df_pairwise_results.reset_index().rename(columns={'index': 'name'})\n",
    "\n",
    "scores = [\"precision\", \"chi2\", \"mutual_info\"]\n",
    "for score in scores:\n",
    "    df_sorted = df_pairwise_results.sort_values(score, ascending=False).head(1000)\n",
    "    results_by_n = []\n",
    "    for n in range(1, len(df_sorted) + 1, 10):\n",
    "        selected_indices = df_sorted.idx.values[:n]\n",
    "        selected_signs = [1 if v else 0 for v in df_sorted.predicted_class.values[:n]]\n",
    "        selected_names = df_sorted.name.values[:n]\n",
    "        selected_precisions = df_sorted.precision.values[:n]\n",
    "        selected_coverages = df_sorted.coverage.values[:n]\n",
    "\n",
    "        X_selected = X_pairwise[:, selected_indices]\n",
    "        rules = [(X_pairwise[:, i], sign, score)\n",
    "            for i, sign, score in zip(selected_indices, selected_signs, selected_precisions)\n",
    "        ]\n",
    "        global_coverage_score, uncovered_occs = global_coverage(X_selected, y_pairwise, selected_signs)\n",
    "        redudancy_score = redundancy(X_selected)\n",
    "        # redudancy_jaccard_score = redundancy_jaccard(X_selected)\n",
    "        amp, pos_amp, neg_amp, rule_zero_amp, (pos_base_precision, neg_base_precision) = average_maximum_precision(rules, y_pairwise, rule_zero=False)\n",
    "        avg_lenght = np.mean([len(re.split(r',(?=node|0|1)', name)) for name in selected_names])\n",
    "        results_by_n.append({\n",
    "            \"n_features\": n,\n",
    "            \"global_coverage\": global_coverage_score,\n",
    "            \"redundancy\": redudancy_score,\n",
    "            \"amp\": amp,\n",
    "            \"pos_amp\": pos_amp,\n",
    "            \"neg_amp\": neg_amp,\n",
    "            \"rule_zero_amp\": rule_zero_amp,\n",
    "            \"pos_base_precision\": pos_base_precision,\n",
    "            \"neg_base_precision\": neg_base_precision,\n",
    "            \"amp_gain\": amp - rule_zero_amp,\n",
    "            \"uncovered_occs\": uncovered_occs[0],\n",
    "            \"avg_precision\": np.mean(selected_precisions),\n",
    "            \"avg_coverage\": np.mean(selected_coverages),\n",
    "            \"avg_lenght\": avg_lenght\n",
    "        })\n",
    "    pairwise_res[score] = results_by_n"
   ]
  },
  {
   "cell_type": "code",
   "execution_count": 12,
   "id": "e0e2dd2f",
   "metadata": {},
   "outputs": [
    {
     "data": {
      "image/png": "[encoded data removed]",
      "text/plain": [
       "<Figure size 1440x400 with 3 Axes>"
      ]
     },
     "metadata": {},
     "output_type": "display_data"
    }
   ],
   "source": [
    "results_by_n_mi = pd.DataFrame(pairwise_res['mutual_info'])\n",
    "results_by_n_mi['score'] = 'mutual_info'\n",
    "df_long = pd.concat([results_by_n_mi], ignore_index=True)\n",
    "\n",
    "# only plot mutual_info: 1 row, 3 columns (one for each metric)\n",
    "df_plot = results_by_n_mi.melt(\n",
    "  id_vars=['n_features', 'score'],\n",
    "  value_vars=['amp', 'redundancy', 'global_coverage'],\n",
    "  var_name='metric', value_name='value'\n",
    ")\n",
    "\n",
    "g = sns.FacetGrid(df_plot, row=None, col='metric', sharex=True, sharey=False, height=4, aspect=1.2)\n",
    "for ax, metric in zip(g.axes.flat, df_plot['metric'].unique()):\n",
    "  if metric == 'amp':\n",
    "    rule_zero = results_by_n_mi['rule_zero_amp'].iloc[0]\n",
    "    ax.axhline(rule_zero, color='red', linestyle='--', label='rule_zero_amp')\n",
    "\n",
    "g.map(sns.lineplot, 'n_features', 'value')\n",
    "g.set_axis_labels('Number of Rules', 'Value')\n",
    "g.set_titles(col_template='{col_name}')\n",
    "plt.tight_layout()\n",
    "#plt.savefig(\"univariate_selection_pairwise.pdf\")\n",
    "plt.show()"
   ]
  },
  {
   "cell_type": "code",
   "execution_count": 13,
   "id": "e7fff6f9",
   "metadata": {},
   "outputs": [
    {
     "data": {
      "text/plain": [
       "{'precision': None,\n",
       " 'chi2': None,\n",
       " 'mutual_info': {'n_features': 621,\n",
       "  'amp': 0.9431431527876689,\n",
       "  'rule_zero_amp': 0.9403148932101334,\n",
       "  'redundancy': 36.68059475169538}}"
      ]
     },
     "execution_count": 13,
     "metadata": {},
     "output_type": "execute_result"
    }
   ],
   "source": [
    "results_by_n_precision = pd.DataFrame(pairwise_res['precision'])\n",
    "results_by_n_chi2 = pd.DataFrame(pairwise_res['chi2'])\n",
    "results_by_n_mi = pd.DataFrame(pairwise_res['mutual_info'])\n",
    "# Find the first n_features where max_precision exceeds rule_zero_max_precision for each score\n",
    "first_pass = {}\n",
    "for score, df in zip(scores, [results_by_n_precision, results_by_n_chi2, results_by_n_mi]):\n",
    "    threshold = df['rule_zero_amp'].iloc[0]\n",
    "    above = df[df['amp'] > threshold]\n",
    "    if not above.empty:\n",
    "        first_row = above.iloc[0]\n",
    "        first_pass[score] = {\n",
    "            'n_features': int(first_row['n_features']),\n",
    "            'amp': float(first_row['amp']),\n",
    "            'rule_zero_amp': float(threshold),\n",
    "            'redundancy': float(first_row['redundancy']),\n",
    "        }\n",
    "    else:\n",
    "        first_pass[score] = None\n",
    "first_pass"
   ]
  }
 ],
 "metadata": {
  "kernelspec": {
   "display_name": ".venv",
   "language": "python",
   "name": "python3"
  },
  "language_info": {
   "codemirror_mode": {
    "name": "ipython",
    "version": 3
   },
   "file_extension": ".py",
   "mimetype": "text/x-python",
   "name": "python",
   "nbconvert_exporter": "python",
   "pygments_lexer": "ipython3",
   "version": "3.10.12"
  }
 },
 "nbformat": 4,
 "nbformat_minor": 5
}
