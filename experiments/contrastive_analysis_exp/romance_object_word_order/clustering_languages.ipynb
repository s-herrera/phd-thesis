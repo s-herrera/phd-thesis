{
 "cells": [
  {
   "cell_type": "code",
   "execution_count": null,
   "id": "6b4524f3",
   "metadata": {},
   "outputs": [],
   "source": [
    "import json\n",
    "import pandas as pd\n",
    "import numpy as np\n",
    "from scipy.spatial.distance import pdist, squareform\n",
    "from scipy.cluster.hierarchy import dendrogram, linkage, leaves_list\n",
    "import matplotlib.pyplot as plt\n",
    "import seaborn as sns"
   ]
  },
  {
   "cell_type": "code",
   "execution_count": null,
   "id": "7c763d3d",
   "metadata": {},
   "outputs": [],
   "source": [
    "with open(f\"results/results_xy_obj_verb_pron_order_statistics.json\") as f:\n",
    "    data = json.load(f)\n",
    "\n",
    "languages = data['languages']\n",
    "\n",
    "rules_df = pd.DataFrame.from_records(data['rules']).drop(\"stats\", axis=1)\n",
    "stats_df = pd.DataFrame.from_records([rule['stats'] for rule in data['rules']])\n",
    "df = pd.concat([rules_df, stats_df], axis=1)\n",
    "df"
   ]
  },
  {
   "cell_type": "code",
   "execution_count": null,
   "id": "3176ce76",
   "metadata": {},
   "outputs": [],
   "source": [
    "# Choose row_id\n",
    "row_id = 0"
   ]
  },
  {
   "cell_type": "code",
   "execution_count": null,
   "id": "5f0a4d4d",
   "metadata": {},
   "outputs": [],
   "source": [
    "# Draw a dendrogram with euclidean distance and ward method\n",
    "values = np.array(df.loc[row_id, 'precisions']).reshape(-1,1)\n",
    "linkage_matrix = linkage(values, method='ward', metric=\"euclidean\")\n",
    "\n",
    "fig, ax = plt.subplots()\n",
    "dg = dendrogram(linkage_matrix, labels=languages, leaf_rotation=45, leaf_font_size=12, ax=ax)\n",
    "plt.show()"
   ]
  },
  {
   "cell_type": "code",
   "execution_count": null,
   "id": "589beac3",
   "metadata": {},
   "outputs": [],
   "source": [
    "leaf_clusters = dg['leaves_color_list']\n",
    "leaves = dg['ivl']\n",
    "distances = pdist(values, metric=\"euclidean\")\n",
    "sq_distance_matrix = squareform(distances)\n",
    "\n",
    "df_clustermap = pd.DataFrame(sq_distance_matrix, index=languages, columns=languages)\n",
    "col_order = leaves_list(linkage_matrix)\n",
    "\n",
    "fig = sns.clustermap(\n",
    "    df_clustermap.iloc[col_order, :],\n",
    "    col_cluster=True,\n",
    "    row_cluster=False,\n",
    "    col_linkage=linkage_matrix,\n",
    "    annot=True,\n",
    "    cmap=\"crest\",\n",
    "    figsize=(12, 10),\n",
    "    cbar=True\n",
    ")\n",
    "\n",
    "if fig.cax is not None:\n",
    "    fig.cax.set_visible(True)\n",
    "\n",
    "heatmap_pos = fig.ax_heatmap.get_position()\n",
    "cbar_pos = fig.cax.get_position()\n",
    "\n",
    "fig.cax.set_position([\n",
    "    1.07 - heatmap_pos.x1,\n",
    "    cbar_pos.y0,\n",
    "    cbar_pos.width,\n",
    "    cbar_pos.height\n",
    "])\n",
    "\n",
    "fig.ax_heatmap.set_xticklabels(\n",
    "    fig.ax_heatmap.get_xticklabels(),\n",
    "    fontsize=14\n",
    ")\n",
    "fig.ax_heatmap.set_yticklabels(\n",
    "    fig.ax_heatmap.get_yticklabels(),\n",
    "    ha='center',\n",
    "    fontsize=14,\n",
    "    rotation_mode='anchor',\n",
    ")\n",
    "\n",
    "plt.show()"
   ]
  },
  {
   "cell_type": "code",
   "execution_count": null,
   "id": "c85796cd",
   "metadata": {},
   "outputs": [],
   "source": [
    "\n",
    "residuals = df.loc[row_id, 'residuals']\n",
    "fig, ax = plt.subplots(figsize=(10, 6))\n",
    "sns.barplot(x=languages, y=residuals, ax=ax)\n",
    "ax.set_title(\"Standarized residuals\")\n",
    "ax.set_xlabel(\"\")\n",
    "ax.set_ylabel(\"\")\n",
    "ax.tick_params(axis='x', labelsize=15)\n",
    "ax.tick_params(axis='y', labelsize=15)\n",
    "ax.tick_params(axis='x')\n",
    "plt.show()"
   ]
  }
 ],
 "metadata": {
  "kernelspec": {
   "display_name": ".venv",
   "language": "python",
   "name": "python3"
  },
  "language_info": {
   "codemirror_mode": {
    "name": "ipython",
    "version": 3
   },
   "file_extension": ".py",
   "mimetype": "text/x-python",
   "name": "python",
   "nbconvert_exporter": "python",
   "pygments_lexer": "ipython3",
   "version": "3.10.12"
  }
 },
 "nbformat": 4,
 "nbformat_minor": 5
}
